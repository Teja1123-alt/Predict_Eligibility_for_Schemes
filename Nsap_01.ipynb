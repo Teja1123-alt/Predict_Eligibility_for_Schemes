{
 "cells": [
  {
   "cell_type": "code",
   "execution_count": null,
   "metadata": {
    "id": "7370c090-c9d2-4d08-a2eb-9b13a54d41a2"
   },
   "outputs": [
    {
     "ename": "",
     "evalue": "",
     "output_type": "error",
     "traceback": [
      "\u001b[1;31mRunning cells with 'Python 3.8.2' requires the ipykernel package.\n",
      "\u001b[1;31m<a href='command:jupyter.createPythonEnvAndSelectController'>Create a Python Environment</a> with the required packages.\n",
      "\u001b[1;31mOr install 'ipykernel' using the command: 'c:/Users/tejan/AppData/Local/Programs/Python/Python38/python.exe -m pip install ipykernel -U --user --force-reinstall'"
     ]
    }
   ],
   "source": [
    "print(\"Nani\")"
   ]
  },
  {
   "cell_type": "code",
   "execution_count": 18,
   "metadata": {
    "id": "0b5b94cb-883a-4752-98cd-47617f1cfde5"
   },
   "outputs": [
    {
     "data": {
      "text/html": [
       "<div>\n",
       "<style scoped>\n",
       "    .dataframe tbody tr th:only-of-type {\n",
       "        vertical-align: middle;\n",
       "    }\n",
       "\n",
       "    .dataframe tbody tr th {\n",
       "        vertical-align: top;\n",
       "    }\n",
       "\n",
       "    .dataframe thead th {\n",
       "        text-align: right;\n",
       "    }\n",
       "</style>\n",
       "<table border=\"1\" class=\"dataframe\">\n",
       "  <thead>\n",
       "    <tr style=\"text-align: right;\">\n",
       "      <th></th>\n",
       "      <th>finyear</th>\n",
       "      <th>lgdstatecode</th>\n",
       "      <th>statename</th>\n",
       "      <th>lgddistrictcode</th>\n",
       "      <th>districtname</th>\n",
       "      <th>schemecode</th>\n",
       "      <th>totalbeneficiaries</th>\n",
       "      <th>totalmale</th>\n",
       "      <th>totalfemale</th>\n",
       "      <th>totaltransgender</th>\n",
       "      <th>totalsc</th>\n",
       "      <th>totalst</th>\n",
       "      <th>totalgen</th>\n",
       "      <th>totalobc</th>\n",
       "      <th>totalaadhaar</th>\n",
       "      <th>totalmobilenumber</th>\n",
       "    </tr>\n",
       "  </thead>\n",
       "  <tbody>\n",
       "    <tr>\n",
       "      <th>0</th>\n",
       "      <td>2025-2026</td>\n",
       "      <td>1</td>\n",
       "      <td>JAMMU AND KASHMIR</td>\n",
       "      <td>1</td>\n",
       "      <td>ANANTNAG</td>\n",
       "      <td>IGNDPS</td>\n",
       "      <td>108</td>\n",
       "      <td>72</td>\n",
       "      <td>36</td>\n",
       "      <td>0</td>\n",
       "      <td>0</td>\n",
       "      <td>3</td>\n",
       "      <td>104</td>\n",
       "      <td>1</td>\n",
       "      <td>108</td>\n",
       "      <td>69</td>\n",
       "    </tr>\n",
       "    <tr>\n",
       "      <th>1</th>\n",
       "      <td>2025-2026</td>\n",
       "      <td>1</td>\n",
       "      <td>JAMMU AND KASHMIR</td>\n",
       "      <td>1</td>\n",
       "      <td>ANANTNAG</td>\n",
       "      <td>IGNOAPS</td>\n",
       "      <td>8438</td>\n",
       "      <td>5059</td>\n",
       "      <td>3379</td>\n",
       "      <td>0</td>\n",
       "      <td>37</td>\n",
       "      <td>235</td>\n",
       "      <td>8083</td>\n",
       "      <td>83</td>\n",
       "      <td>8371</td>\n",
       "      <td>7190</td>\n",
       "    </tr>\n",
       "    <tr>\n",
       "      <th>2</th>\n",
       "      <td>2025-2026</td>\n",
       "      <td>1</td>\n",
       "      <td>JAMMU AND KASHMIR</td>\n",
       "      <td>1</td>\n",
       "      <td>ANANTNAG</td>\n",
       "      <td>IGNWPS</td>\n",
       "      <td>202</td>\n",
       "      <td>0</td>\n",
       "      <td>202</td>\n",
       "      <td>0</td>\n",
       "      <td>1</td>\n",
       "      <td>15</td>\n",
       "      <td>180</td>\n",
       "      <td>6</td>\n",
       "      <td>200</td>\n",
       "      <td>159</td>\n",
       "    </tr>\n",
       "    <tr>\n",
       "      <th>3</th>\n",
       "      <td>2025-2026</td>\n",
       "      <td>1</td>\n",
       "      <td>JAMMU AND KASHMIR</td>\n",
       "      <td>10</td>\n",
       "      <td>POONCH</td>\n",
       "      <td>IGNDPS</td>\n",
       "      <td>310</td>\n",
       "      <td>211</td>\n",
       "      <td>99</td>\n",
       "      <td>0</td>\n",
       "      <td>0</td>\n",
       "      <td>77</td>\n",
       "      <td>200</td>\n",
       "      <td>33</td>\n",
       "      <td>234</td>\n",
       "      <td>110</td>\n",
       "    </tr>\n",
       "    <tr>\n",
       "      <th>4</th>\n",
       "      <td>2025-2026</td>\n",
       "      <td>1</td>\n",
       "      <td>JAMMU AND KASHMIR</td>\n",
       "      <td>10</td>\n",
       "      <td>POONCH</td>\n",
       "      <td>IGNOAPS</td>\n",
       "      <td>5958</td>\n",
       "      <td>3958</td>\n",
       "      <td>2000</td>\n",
       "      <td>0</td>\n",
       "      <td>2</td>\n",
       "      <td>1347</td>\n",
       "      <td>4367</td>\n",
       "      <td>242</td>\n",
       "      <td>3875</td>\n",
       "      <td>2287</td>\n",
       "    </tr>\n",
       "    <tr>\n",
       "      <th>5</th>\n",
       "      <td>2025-2026</td>\n",
       "      <td>1</td>\n",
       "      <td>JAMMU AND KASHMIR</td>\n",
       "      <td>10</td>\n",
       "      <td>POONCH</td>\n",
       "      <td>IGNWPS</td>\n",
       "      <td>382</td>\n",
       "      <td>0</td>\n",
       "      <td>382</td>\n",
       "      <td>0</td>\n",
       "      <td>0</td>\n",
       "      <td>65</td>\n",
       "      <td>298</td>\n",
       "      <td>19</td>\n",
       "      <td>260</td>\n",
       "      <td>90</td>\n",
       "    </tr>\n",
       "    <tr>\n",
       "      <th>6</th>\n",
       "      <td>2025-2026</td>\n",
       "      <td>1</td>\n",
       "      <td>JAMMU AND KASHMIR</td>\n",
       "      <td>11</td>\n",
       "      <td>PULWAMA</td>\n",
       "      <td>IGNDPS</td>\n",
       "      <td>95</td>\n",
       "      <td>63</td>\n",
       "      <td>32</td>\n",
       "      <td>0</td>\n",
       "      <td>0</td>\n",
       "      <td>6</td>\n",
       "      <td>81</td>\n",
       "      <td>8</td>\n",
       "      <td>94</td>\n",
       "      <td>93</td>\n",
       "    </tr>\n",
       "    <tr>\n",
       "      <th>7</th>\n",
       "      <td>2025-2026</td>\n",
       "      <td>1</td>\n",
       "      <td>JAMMU AND KASHMIR</td>\n",
       "      <td>11</td>\n",
       "      <td>PULWAMA</td>\n",
       "      <td>IGNOAPS</td>\n",
       "      <td>5021</td>\n",
       "      <td>2911</td>\n",
       "      <td>2110</td>\n",
       "      <td>0</td>\n",
       "      <td>1</td>\n",
       "      <td>197</td>\n",
       "      <td>4443</td>\n",
       "      <td>380</td>\n",
       "      <td>5021</td>\n",
       "      <td>4935</td>\n",
       "    </tr>\n",
       "    <tr>\n",
       "      <th>8</th>\n",
       "      <td>2025-2026</td>\n",
       "      <td>1</td>\n",
       "      <td>JAMMU AND KASHMIR</td>\n",
       "      <td>11</td>\n",
       "      <td>PULWAMA</td>\n",
       "      <td>IGNWPS</td>\n",
       "      <td>304</td>\n",
       "      <td>0</td>\n",
       "      <td>304</td>\n",
       "      <td>0</td>\n",
       "      <td>0</td>\n",
       "      <td>20</td>\n",
       "      <td>260</td>\n",
       "      <td>24</td>\n",
       "      <td>304</td>\n",
       "      <td>258</td>\n",
       "    </tr>\n",
       "    <tr>\n",
       "      <th>9</th>\n",
       "      <td>2025-2026</td>\n",
       "      <td>1</td>\n",
       "      <td>JAMMU AND KASHMIR</td>\n",
       "      <td>12</td>\n",
       "      <td>RAJAURI</td>\n",
       "      <td>IGNDPS</td>\n",
       "      <td>78</td>\n",
       "      <td>52</td>\n",
       "      <td>26</td>\n",
       "      <td>0</td>\n",
       "      <td>5</td>\n",
       "      <td>5</td>\n",
       "      <td>68</td>\n",
       "      <td>0</td>\n",
       "      <td>72</td>\n",
       "      <td>3</td>\n",
       "    </tr>\n",
       "  </tbody>\n",
       "</table>\n",
       "</div>"
      ],
      "text/plain": [
       "     finyear  lgdstatecode          statename  lgddistrictcode districtname  \\\n",
       "0  2025-2026             1  JAMMU AND KASHMIR                1     ANANTNAG   \n",
       "1  2025-2026             1  JAMMU AND KASHMIR                1     ANANTNAG   \n",
       "2  2025-2026             1  JAMMU AND KASHMIR                1     ANANTNAG   \n",
       "3  2025-2026             1  JAMMU AND KASHMIR               10       POONCH   \n",
       "4  2025-2026             1  JAMMU AND KASHMIR               10       POONCH   \n",
       "5  2025-2026             1  JAMMU AND KASHMIR               10       POONCH   \n",
       "6  2025-2026             1  JAMMU AND KASHMIR               11      PULWAMA   \n",
       "7  2025-2026             1  JAMMU AND KASHMIR               11      PULWAMA   \n",
       "8  2025-2026             1  JAMMU AND KASHMIR               11      PULWAMA   \n",
       "9  2025-2026             1  JAMMU AND KASHMIR               12      RAJAURI   \n",
       "\n",
       "  schemecode  totalbeneficiaries  totalmale  totalfemale  totaltransgender  \\\n",
       "0     IGNDPS                 108         72           36                 0   \n",
       "1    IGNOAPS                8438       5059         3379                 0   \n",
       "2     IGNWPS                 202          0          202                 0   \n",
       "3     IGNDPS                 310        211           99                 0   \n",
       "4    IGNOAPS                5958       3958         2000                 0   \n",
       "5     IGNWPS                 382          0          382                 0   \n",
       "6     IGNDPS                  95         63           32                 0   \n",
       "7    IGNOAPS                5021       2911         2110                 0   \n",
       "8     IGNWPS                 304          0          304                 0   \n",
       "9     IGNDPS                  78         52           26                 0   \n",
       "\n",
       "   totalsc  totalst  totalgen  totalobc  totalaadhaar  totalmobilenumber  \n",
       "0        0        3       104         1           108                 69  \n",
       "1       37      235      8083        83          8371               7190  \n",
       "2        1       15       180         6           200                159  \n",
       "3        0       77       200        33           234                110  \n",
       "4        2     1347      4367       242          3875               2287  \n",
       "5        0       65       298        19           260                 90  \n",
       "6        0        6        81         8            94                 93  \n",
       "7        1      197      4443       380          5021               4935  \n",
       "8        0       20       260        24           304                258  \n",
       "9        5        5        68         0            72                  3  "
      ]
     },
     "execution_count": 18,
     "metadata": {},
     "output_type": "execute_result"
    }
   ],
   "source": [
    "\n",
    "import os, types\n",
    "import pandas as pd\n",
    "from botocore.client import Config\n",
    "import ibm_boto3\n",
    "\n",
    "def __iter__(self): return 0\n",
    "\n",
    "# @hidden_cell\n",
    "# The following code accesses a file in your IBM Cloud Object Storage. It includes your credentials.\n",
    "# You might want to remove those credentials before you share the notebook.\n",
    "\n",
    "cos_client = ibm_boto3.client(service_name='s3',\n",
    "    ibm_api_key_id='3ljF1rNyzuj2S-Lwn0L_29e4j_DfGKXG32uv1H4hplg9',\n",
    "    ibm_auth_endpoint=\"https://iam.cloud.ibm.com/identity/token\",\n",
    "    config=Config(signature_version='oauth'),\n",
    "    endpoint_url='https://s3.direct.au-syd.cloud-object-storage.appdomain.cloud')\n",
    "\n",
    "bucket = 'work01-donotdelete-pr-vklfklyspvukzk'\n",
    "object_key = 'Social Welfare Schemes.csv'\n",
    "\n",
    "body = cos_client.get_object(Bucket=bucket,Key=object_key)['Body']\n",
    "# add missing __iter__ method, so pandas accepts body as file-like object\n",
    "if not hasattr(body, \"__iter__\"): body.__iter__ = types.MethodType( __iter__, body )\n",
    "\n",
    "df = pd.read_csv(body)\n",
    "df.head(10)\n"
   ]
  },
  {
   "cell_type": "code",
   "execution_count": 19,
   "metadata": {
    "id": "214a16f0-3c2b-4c31-b9a1-ac0186904b95"
   },
   "outputs": [
    {
     "data": {
      "text/plain": [
       "schemecode\n",
       "IGNDPS       843945\n",
       "IGNOAPS    22042306\n",
       "IGNWPS      7005159\n",
       "Name: totalbeneficiaries, dtype: int64"
      ]
     },
     "execution_count": 19,
     "metadata": {},
     "output_type": "execute_result"
    }
   ],
   "source": [
    "df.groupby(\"schemecode\")[\"totalbeneficiaries\"].sum()\n"
   ]
  },
  {
   "cell_type": "code",
   "execution_count": 20,
   "metadata": {
    "id": "1e655e7a-ae5b-4cf3-8147-fdd8211fd113"
   },
   "outputs": [
    {
     "data": {
      "text/plain": [
       "districtname\n",
       "PATNA                       303895\n",
       "MADHUBANI                   282451\n",
       "MUZAFFARPUR                 266767\n",
       "MURSHIDABAD                 226207\n",
       "PURBI CHAMPARAN             211211\n",
       "                             ...  \n",
       "PAKKE KESSANG                  438\n",
       "UPPER DIBANG VALLEY            358\n",
       "LAKSHADWEEP DISTRICT           256\n",
       "BANDRA(MSD)                    243\n",
       "NORTH AND MIDDLE ANDAMAN       141\n",
       "Name: totalbeneficiaries, Length: 726, dtype: int64"
      ]
     },
     "execution_count": 20,
     "metadata": {},
     "output_type": "execute_result"
    }
   ],
   "source": [
    "df.groupby(\"districtname\")[\"totalbeneficiaries\"].sum().sort_values(ascending=False)\n"
   ]
  },
  {
   "cell_type": "code",
   "execution_count": 21,
   "metadata": {
    "id": "f6c29720-8e94-49e1-8561-d457c509f956"
   },
   "outputs": [
    {
     "data": {
      "text/html": [
       "<div>\n",
       "<style scoped>\n",
       "    .dataframe tbody tr th:only-of-type {\n",
       "        vertical-align: middle;\n",
       "    }\n",
       "\n",
       "    .dataframe tbody tr th {\n",
       "        vertical-align: top;\n",
       "    }\n",
       "\n",
       "    .dataframe thead th {\n",
       "        text-align: right;\n",
       "    }\n",
       "</style>\n",
       "<table border=\"1\" class=\"dataframe\">\n",
       "  <thead>\n",
       "    <tr style=\"text-align: right;\">\n",
       "      <th></th>\n",
       "      <th>totalmale</th>\n",
       "      <th>totalfemale</th>\n",
       "      <th>totaltransgender</th>\n",
       "    </tr>\n",
       "    <tr>\n",
       "      <th>schemecode</th>\n",
       "      <th></th>\n",
       "      <th></th>\n",
       "      <th></th>\n",
       "    </tr>\n",
       "  </thead>\n",
       "  <tbody>\n",
       "    <tr>\n",
       "      <th>IGNDPS</th>\n",
       "      <td>546833</td>\n",
       "      <td>296865</td>\n",
       "      <td>247</td>\n",
       "    </tr>\n",
       "    <tr>\n",
       "      <th>IGNOAPS</th>\n",
       "      <td>11350639</td>\n",
       "      <td>10689636</td>\n",
       "      <td>1751</td>\n",
       "    </tr>\n",
       "    <tr>\n",
       "      <th>IGNWPS</th>\n",
       "      <td>1</td>\n",
       "      <td>7005158</td>\n",
       "      <td>0</td>\n",
       "    </tr>\n",
       "  </tbody>\n",
       "</table>\n",
       "</div>"
      ],
      "text/plain": [
       "            totalmale  totalfemale  totaltransgender\n",
       "schemecode                                          \n",
       "IGNDPS         546833       296865               247\n",
       "IGNOAPS      11350639     10689636              1751\n",
       "IGNWPS              1      7005158                 0"
      ]
     },
     "execution_count": 21,
     "metadata": {},
     "output_type": "execute_result"
    }
   ],
   "source": [
    "df.groupby(\"schemecode\")[[\"totalmale\", \"totalfemale\", \"totaltransgender\"]].sum()\n"
   ]
  },
  {
   "cell_type": "code",
   "execution_count": 29,
   "metadata": {
    "id": "d9f72247-1bb1-4837-ba0c-4b67ce4f4e4a"
   },
   "outputs": [],
   "source": [
    "df[\"aadhaar_coverage\"] = df[\"totalaadhaar\"] / df[\"totalbeneficiaries\"] * 100\n"
   ]
  },
  {
   "cell_type": "code",
   "execution_count": 30,
   "metadata": {
    "id": "9e618703-9ae2-465f-ae60-7191f0fee078"
   },
   "outputs": [],
   "source": [
    "df[\"missing_mobile\"] = df[\"totalbeneficiaries\"] - df[\"totalmobilenumber\"]\n"
   ]
  },
  {
   "cell_type": "code",
   "execution_count": 25,
   "metadata": {
    "id": "49f74804-81f5-4267-ba6b-bf79a7df4ccc"
   },
   "outputs": [
    {
     "name": "stdout",
     "output_type": "stream",
     "text": [
      "     finyear  lgdstatecode          statename  lgddistrictcode districtname  \\\n",
      "0  2025-2026             1  JAMMU AND KASHMIR                1     ANANTNAG   \n",
      "1  2025-2026             1  JAMMU AND KASHMIR                1     ANANTNAG   \n",
      "2  2025-2026             1  JAMMU AND KASHMIR                1     ANANTNAG   \n",
      "3  2025-2026             1  JAMMU AND KASHMIR               10       POONCH   \n",
      "4  2025-2026             1  JAMMU AND KASHMIR               10       POONCH   \n",
      "\n",
      "  schemecode  totalbeneficiaries  totalmale  totalfemale  totaltransgender  \\\n",
      "0     IGNDPS                 108         72           36                 0   \n",
      "1    IGNOAPS                8438       5059         3379                 0   \n",
      "2     IGNWPS                 202          0          202                 0   \n",
      "3     IGNDPS                 310        211           99                 0   \n",
      "4    IGNOAPS                5958       3958         2000                 0   \n",
      "\n",
      "   totalsc  totalst  totalgen  totalobc  totalaadhaar  totalmobilenumber  \\\n",
      "0        0        3       104         1           108                 69   \n",
      "1       37      235      8083        83          8371               7190   \n",
      "2        1       15       180         6           200                159   \n",
      "3        0       77       200        33           234                110   \n",
      "4        2     1347      4367       242          3875               2287   \n",
      "\n",
      "   aadhaar_coverage  missing_mobile  \n",
      "0        100.000000              39  \n",
      "1         99.205973            1248  \n",
      "2         99.009901              43  \n",
      "3         75.483871             200  \n",
      "4         65.038604            3671  \n",
      "<class 'pandas.core.frame.DataFrame'>\n",
      "RangeIndex: 2156 entries, 0 to 2155\n",
      "Data columns (total 18 columns):\n",
      " #   Column              Non-Null Count  Dtype  \n",
      "---  ------              --------------  -----  \n",
      " 0   finyear             2156 non-null   object \n",
      " 1   lgdstatecode        2156 non-null   int64  \n",
      " 2   statename           2156 non-null   object \n",
      " 3   lgddistrictcode     2156 non-null   int64  \n",
      " 4   districtname        2156 non-null   object \n",
      " 5   schemecode          2156 non-null   object \n",
      " 6   totalbeneficiaries  2156 non-null   int64  \n",
      " 7   totalmale           2156 non-null   int64  \n",
      " 8   totalfemale         2156 non-null   int64  \n",
      " 9   totaltransgender    2156 non-null   int64  \n",
      " 10  totalsc             2156 non-null   int64  \n",
      " 11  totalst             2156 non-null   int64  \n",
      " 12  totalgen            2156 non-null   int64  \n",
      " 13  totalobc            2156 non-null   int64  \n",
      " 14  totalaadhaar        2156 non-null   int64  \n",
      " 15  totalmobilenumber   2156 non-null   int64  \n",
      " 16  aadhaar_coverage    2156 non-null   float64\n",
      " 17  missing_mobile      2156 non-null   int64  \n",
      "dtypes: float64(1), int64(13), object(4)\n",
      "memory usage: 303.3+ KB\n",
      "None\n",
      "       lgdstatecode  lgddistrictcode  totalbeneficiaries      totalmale  \\\n",
      "count   2156.000000      2156.000000         2156.000000    2156.000000   \n",
      "mean      18.085807       366.853432        13864.290353    5518.308442   \n",
      "std        9.770668       211.760095        22855.917172   11926.748715   \n",
      "min        1.000000         1.000000            2.000000       0.000000   \n",
      "25%        9.000000       185.000000          961.750000       0.000000   \n",
      "50%       19.000000       365.000000         4702.500000     503.000000   \n",
      "75%       24.000000       546.250000        17377.000000    4819.500000   \n",
      "max       38.000000       763.000000       278410.000000  130524.000000   \n",
      "\n",
      "         totalfemale  totaltransgender       totalsc       totalst  \\\n",
      "count    2156.000000       2156.000000   2156.000000   2156.000000   \n",
      "mean     8344.925325          0.926716   2370.432282   1387.965213   \n",
      "std     12518.941254          6.692879   4760.239674   3850.474062   \n",
      "min         1.000000          0.000000      0.000000      0.000000   \n",
      "25%       418.750000          0.000000     55.000000     12.000000   \n",
      "50%      3415.000000          0.000000    481.000000    139.000000   \n",
      "75%     11514.750000          0.000000   2432.750000    992.250000   \n",
      "max    147780.000000        165.000000  61247.000000  56759.000000   \n",
      "\n",
      "            totalgen      totalobc   totalaadhaar  totalmobilenumber  \\\n",
      "count    2156.000000   2156.000000    2156.000000        2156.000000   \n",
      "mean     5766.059369   4334.096011   12084.051948        9853.239332   \n",
      "std     13814.145206   8513.111659   20514.175808       18277.289930   \n",
      "min         0.000000      0.000000       0.000000           0.000000   \n",
      "25%       223.000000     54.000000     689.500000         466.750000   \n",
      "50%      1221.000000    692.500000    3199.500000        2419.500000   \n",
      "75%      5186.000000   4379.500000   14402.000000       10800.250000   \n",
      "max    210999.000000  94046.000000  193015.000000      193091.000000   \n",
      "\n",
      "       aadhaar_coverage  missing_mobile  \n",
      "count       2156.000000     2156.000000  \n",
      "mean          79.469564     4011.051020  \n",
      "std           23.912739     7719.810436  \n",
      "min            0.000000        0.000000  \n",
      "25%           69.608699      159.000000  \n",
      "50%           88.233392      920.000000  \n",
      "75%           97.803946     4452.250000  \n",
      "max          100.000000   129866.000000  \n",
      "finyear               0\n",
      "lgdstatecode          0\n",
      "statename             0\n",
      "lgddistrictcode       0\n",
      "districtname          0\n",
      "schemecode            0\n",
      "totalbeneficiaries    0\n",
      "totalmale             0\n",
      "totalfemale           0\n",
      "totaltransgender      0\n",
      "totalsc               0\n",
      "totalst               0\n",
      "totalgen              0\n",
      "totalobc              0\n",
      "totalaadhaar          0\n",
      "totalmobilenumber     0\n",
      "aadhaar_coverage      0\n",
      "missing_mobile        0\n",
      "dtype: int64\n",
      "schemecode\n",
      "IGNOAPS    731\n",
      "IGNWPS     723\n",
      "IGNDPS     702\n",
      "Name: count, dtype: int64\n"
     ]
    }
   ],
   "source": [
    "print(df.head())\n",
    "print(df.info())\n",
    "print(df.describe())\n",
    "print(df.isnull().sum()) # Check for missing values\n",
    "# Analyze the target variable distribution\n",
    "print(df['schemecode'].value_counts())\n",
    " # Replace 'NSAP_SCHEME_COLUMN' with actual column name"
   ]
  },
  {
   "cell_type": "code",
   "execution_count": 26,
   "metadata": {
    "id": "b750bd90-018b-4c2b-9fe9-b505aa301fa1"
   },
   "outputs": [],
   "source": [
    "from sklearn.model_selection import train_test_split\n",
    "from sklearn.preprocessing import StandardScaler, OneHotEncoder\n",
    "from sklearn.compose import ColumnTransformer\n",
    "from sklearn.pipeline import Pipeline\n",
    "\n",
    "# Identify features (X) and target (y)\n",
    "# You'll need to inspect your dataset to find the actual column names\n",
    "# Assume 'Scheme' is the target variable (the NSAP scheme)\n",
    "# and other columns are features.\n",
    "target_column = 'schemecode' # *YOU MUST REPLACE THIS WITH THE ACTUAL COLUMN NAME*\n",
    "X = df.drop(columns=[target_column])\n",
    "y = df[target_column]\n",
    "\n",
    "# Identify categorical and numerical features\n",
    "categorical_features = X.select_dtypes(include=['object', 'category']).columns\n",
    "numerical_features = X.select_dtypes(include=['int64', 'float64']).columns\n",
    "\n",
    "# Create preprocessing pipelines for numerical and categorical features\n",
    "numerical_transformer = StandardScaler()\n",
    "categorical_transformer = OneHotEncoder(handle_unknown='ignore') # handle_unknown='ignore' for new categories in test set\n",
    "\n",
    "# Create a preprocessor using ColumnTransformer\n",
    "preprocessor = ColumnTransformer(\n",
    "    transformers=[\n",
    "        ('num', numerical_transformer, numerical_features),\n",
    "        ('cat', categorical_transformer, categorical_features)\n",
    "    ])\n",
    "\n",
    "# Split data into training and testing sets\n",
    "X_train, X_test, y_train, y_test = train_test_split(X, y, test_size=0.2, random_state=42, stratify=y)\n",
    "# stratify=y is important for multi-class classification to maintain class proportions"
   ]
  },
  {
   "cell_type": "code",
   "execution_count": 27,
   "metadata": {
    "id": "b1a21081-333b-49f7-8552-74132cfd3698"
   },
   "outputs": [
    {
     "data": {
      "text/html": [
       "<style>#sk-container-id-1 {color: black;}#sk-container-id-1 pre{padding: 0;}#sk-container-id-1 div.sk-toggleable {background-color: white;}#sk-container-id-1 label.sk-toggleable__label {cursor: pointer;display: block;width: 100%;margin-bottom: 0;padding: 0.3em;box-sizing: border-box;text-align: center;}#sk-container-id-1 label.sk-toggleable__label-arrow:before {content: \"▸\";float: left;margin-right: 0.25em;color: #696969;}#sk-container-id-1 label.sk-toggleable__label-arrow:hover:before {color: black;}#sk-container-id-1 div.sk-estimator:hover label.sk-toggleable__label-arrow:before {color: black;}#sk-container-id-1 div.sk-toggleable__content {max-height: 0;max-width: 0;overflow: hidden;text-align: left;background-color: #f0f8ff;}#sk-container-id-1 div.sk-toggleable__content pre {margin: 0.2em;color: black;border-radius: 0.25em;background-color: #f0f8ff;}#sk-container-id-1 input.sk-toggleable__control:checked~div.sk-toggleable__content {max-height: 200px;max-width: 100%;overflow: auto;}#sk-container-id-1 input.sk-toggleable__control:checked~label.sk-toggleable__label-arrow:before {content: \"▾\";}#sk-container-id-1 div.sk-estimator input.sk-toggleable__control:checked~label.sk-toggleable__label {background-color: #d4ebff;}#sk-container-id-1 div.sk-label input.sk-toggleable__control:checked~label.sk-toggleable__label {background-color: #d4ebff;}#sk-container-id-1 input.sk-hidden--visually {border: 0;clip: rect(1px 1px 1px 1px);clip: rect(1px, 1px, 1px, 1px);height: 1px;margin: -1px;overflow: hidden;padding: 0;position: absolute;width: 1px;}#sk-container-id-1 div.sk-estimator {font-family: monospace;background-color: #f0f8ff;border: 1px dotted black;border-radius: 0.25em;box-sizing: border-box;margin-bottom: 0.5em;}#sk-container-id-1 div.sk-estimator:hover {background-color: #d4ebff;}#sk-container-id-1 div.sk-parallel-item::after {content: \"\";width: 100%;border-bottom: 1px solid gray;flex-grow: 1;}#sk-container-id-1 div.sk-label:hover label.sk-toggleable__label {background-color: #d4ebff;}#sk-container-id-1 div.sk-serial::before {content: \"\";position: absolute;border-left: 1px solid gray;box-sizing: border-box;top: 0;bottom: 0;left: 50%;z-index: 0;}#sk-container-id-1 div.sk-serial {display: flex;flex-direction: column;align-items: center;background-color: white;padding-right: 0.2em;padding-left: 0.2em;position: relative;}#sk-container-id-1 div.sk-item {position: relative;z-index: 1;}#sk-container-id-1 div.sk-parallel {display: flex;align-items: stretch;justify-content: center;background-color: white;position: relative;}#sk-container-id-1 div.sk-item::before, #sk-container-id-1 div.sk-parallel-item::before {content: \"\";position: absolute;border-left: 1px solid gray;box-sizing: border-box;top: 0;bottom: 0;left: 50%;z-index: -1;}#sk-container-id-1 div.sk-parallel-item {display: flex;flex-direction: column;z-index: 1;position: relative;background-color: white;}#sk-container-id-1 div.sk-parallel-item:first-child::after {align-self: flex-end;width: 50%;}#sk-container-id-1 div.sk-parallel-item:last-child::after {align-self: flex-start;width: 50%;}#sk-container-id-1 div.sk-parallel-item:only-child::after {width: 0;}#sk-container-id-1 div.sk-dashed-wrapped {border: 1px dashed gray;margin: 0 0.4em 0.5em 0.4em;box-sizing: border-box;padding-bottom: 0.4em;background-color: white;}#sk-container-id-1 div.sk-label label {font-family: monospace;font-weight: bold;display: inline-block;line-height: 1.2em;}#sk-container-id-1 div.sk-label-container {text-align: center;}#sk-container-id-1 div.sk-container {/* jupyter's `normalize.less` sets `[hidden] { display: none; }` but bootstrap.min.css set `[hidden] { display: none !important; }` so we also need the `!important` here to be able to override the default hidden behavior on the sphinx rendered scikit-learn.org. See: https://github.com/scikit-learn/scikit-learn/issues/21755 */display: inline-block !important;position: relative;}#sk-container-id-1 div.sk-text-repr-fallback {display: none;}</style><div id=\"sk-container-id-1\" class=\"sk-top-container\"><div class=\"sk-text-repr-fallback\"><pre>Pipeline(steps=[(&#x27;preprocessor&#x27;,\n",
       "                 ColumnTransformer(transformers=[(&#x27;num&#x27;, StandardScaler(),\n",
       "                                                  Index([&#x27;lgdstatecode&#x27;, &#x27;lgddistrictcode&#x27;, &#x27;totalbeneficiaries&#x27;, &#x27;totalmale&#x27;,\n",
       "       &#x27;totalfemale&#x27;, &#x27;totaltransgender&#x27;, &#x27;totalsc&#x27;, &#x27;totalst&#x27;, &#x27;totalgen&#x27;,\n",
       "       &#x27;totalobc&#x27;, &#x27;totalaadhaar&#x27;, &#x27;totalmobilenumber&#x27;, &#x27;aadhaar_coverage&#x27;,\n",
       "       &#x27;missing_mobile&#x27;],\n",
       "      dtype=&#x27;object&#x27;)),\n",
       "                                                 (&#x27;cat&#x27;,\n",
       "                                                  OneHotEncoder(handle_unknown=&#x27;ignore&#x27;),\n",
       "                                                  Index([&#x27;finyear&#x27;, &#x27;statename&#x27;, &#x27;districtname&#x27;], dtype=&#x27;object&#x27;))])),\n",
       "                (&#x27;classifier&#x27;,\n",
       "                 LogisticRegression(max_iter=1000, random_state=42))])</pre><b>In a Jupyter environment, please rerun this cell to show the HTML representation or trust the notebook. <br />On GitHub, the HTML representation is unable to render, please try loading this page with nbviewer.org.</b></div><div class=\"sk-container\" hidden><div class=\"sk-item sk-dashed-wrapped\"><div class=\"sk-label-container\"><div class=\"sk-label sk-toggleable\"><input class=\"sk-toggleable__control sk-hidden--visually\" id=\"sk-estimator-id-1\" type=\"checkbox\" ><label for=\"sk-estimator-id-1\" class=\"sk-toggleable__label sk-toggleable__label-arrow\">Pipeline</label><div class=\"sk-toggleable__content\"><pre>Pipeline(steps=[(&#x27;preprocessor&#x27;,\n",
       "                 ColumnTransformer(transformers=[(&#x27;num&#x27;, StandardScaler(),\n",
       "                                                  Index([&#x27;lgdstatecode&#x27;, &#x27;lgddistrictcode&#x27;, &#x27;totalbeneficiaries&#x27;, &#x27;totalmale&#x27;,\n",
       "       &#x27;totalfemale&#x27;, &#x27;totaltransgender&#x27;, &#x27;totalsc&#x27;, &#x27;totalst&#x27;, &#x27;totalgen&#x27;,\n",
       "       &#x27;totalobc&#x27;, &#x27;totalaadhaar&#x27;, &#x27;totalmobilenumber&#x27;, &#x27;aadhaar_coverage&#x27;,\n",
       "       &#x27;missing_mobile&#x27;],\n",
       "      dtype=&#x27;object&#x27;)),\n",
       "                                                 (&#x27;cat&#x27;,\n",
       "                                                  OneHotEncoder(handle_unknown=&#x27;ignore&#x27;),\n",
       "                                                  Index([&#x27;finyear&#x27;, &#x27;statename&#x27;, &#x27;districtname&#x27;], dtype=&#x27;object&#x27;))])),\n",
       "                (&#x27;classifier&#x27;,\n",
       "                 LogisticRegression(max_iter=1000, random_state=42))])</pre></div></div></div><div class=\"sk-serial\"><div class=\"sk-item sk-dashed-wrapped\"><div class=\"sk-label-container\"><div class=\"sk-label sk-toggleable\"><input class=\"sk-toggleable__control sk-hidden--visually\" id=\"sk-estimator-id-2\" type=\"checkbox\" ><label for=\"sk-estimator-id-2\" class=\"sk-toggleable__label sk-toggleable__label-arrow\">preprocessor: ColumnTransformer</label><div class=\"sk-toggleable__content\"><pre>ColumnTransformer(transformers=[(&#x27;num&#x27;, StandardScaler(),\n",
       "                                 Index([&#x27;lgdstatecode&#x27;, &#x27;lgddistrictcode&#x27;, &#x27;totalbeneficiaries&#x27;, &#x27;totalmale&#x27;,\n",
       "       &#x27;totalfemale&#x27;, &#x27;totaltransgender&#x27;, &#x27;totalsc&#x27;, &#x27;totalst&#x27;, &#x27;totalgen&#x27;,\n",
       "       &#x27;totalobc&#x27;, &#x27;totalaadhaar&#x27;, &#x27;totalmobilenumber&#x27;, &#x27;aadhaar_coverage&#x27;,\n",
       "       &#x27;missing_mobile&#x27;],\n",
       "      dtype=&#x27;object&#x27;)),\n",
       "                                (&#x27;cat&#x27;, OneHotEncoder(handle_unknown=&#x27;ignore&#x27;),\n",
       "                                 Index([&#x27;finyear&#x27;, &#x27;statename&#x27;, &#x27;districtname&#x27;], dtype=&#x27;object&#x27;))])</pre></div></div></div><div class=\"sk-parallel\"><div class=\"sk-parallel-item\"><div class=\"sk-item\"><div class=\"sk-label-container\"><div class=\"sk-label sk-toggleable\"><input class=\"sk-toggleable__control sk-hidden--visually\" id=\"sk-estimator-id-3\" type=\"checkbox\" ><label for=\"sk-estimator-id-3\" class=\"sk-toggleable__label sk-toggleable__label-arrow\">num</label><div class=\"sk-toggleable__content\"><pre>Index([&#x27;lgdstatecode&#x27;, &#x27;lgddistrictcode&#x27;, &#x27;totalbeneficiaries&#x27;, &#x27;totalmale&#x27;,\n",
       "       &#x27;totalfemale&#x27;, &#x27;totaltransgender&#x27;, &#x27;totalsc&#x27;, &#x27;totalst&#x27;, &#x27;totalgen&#x27;,\n",
       "       &#x27;totalobc&#x27;, &#x27;totalaadhaar&#x27;, &#x27;totalmobilenumber&#x27;, &#x27;aadhaar_coverage&#x27;,\n",
       "       &#x27;missing_mobile&#x27;],\n",
       "      dtype=&#x27;object&#x27;)</pre></div></div></div><div class=\"sk-serial\"><div class=\"sk-item\"><div class=\"sk-estimator sk-toggleable\"><input class=\"sk-toggleable__control sk-hidden--visually\" id=\"sk-estimator-id-4\" type=\"checkbox\" ><label for=\"sk-estimator-id-4\" class=\"sk-toggleable__label sk-toggleable__label-arrow\">StandardScaler</label><div class=\"sk-toggleable__content\"><pre>StandardScaler()</pre></div></div></div></div></div></div><div class=\"sk-parallel-item\"><div class=\"sk-item\"><div class=\"sk-label-container\"><div class=\"sk-label sk-toggleable\"><input class=\"sk-toggleable__control sk-hidden--visually\" id=\"sk-estimator-id-5\" type=\"checkbox\" ><label for=\"sk-estimator-id-5\" class=\"sk-toggleable__label sk-toggleable__label-arrow\">cat</label><div class=\"sk-toggleable__content\"><pre>Index([&#x27;finyear&#x27;, &#x27;statename&#x27;, &#x27;districtname&#x27;], dtype=&#x27;object&#x27;)</pre></div></div></div><div class=\"sk-serial\"><div class=\"sk-item\"><div class=\"sk-estimator sk-toggleable\"><input class=\"sk-toggleable__control sk-hidden--visually\" id=\"sk-estimator-id-6\" type=\"checkbox\" ><label for=\"sk-estimator-id-6\" class=\"sk-toggleable__label sk-toggleable__label-arrow\">OneHotEncoder</label><div class=\"sk-toggleable__content\"><pre>OneHotEncoder(handle_unknown=&#x27;ignore&#x27;)</pre></div></div></div></div></div></div></div></div><div class=\"sk-item\"><div class=\"sk-estimator sk-toggleable\"><input class=\"sk-toggleable__control sk-hidden--visually\" id=\"sk-estimator-id-7\" type=\"checkbox\" ><label for=\"sk-estimator-id-7\" class=\"sk-toggleable__label sk-toggleable__label-arrow\">LogisticRegression</label><div class=\"sk-toggleable__content\"><pre>LogisticRegression(max_iter=1000, random_state=42)</pre></div></div></div></div></div></div></div>"
      ],
      "text/plain": [
       "Pipeline(steps=[('preprocessor',\n",
       "                 ColumnTransformer(transformers=[('num', StandardScaler(),\n",
       "                                                  Index(['lgdstatecode', 'lgddistrictcode', 'totalbeneficiaries', 'totalmale',\n",
       "       'totalfemale', 'totaltransgender', 'totalsc', 'totalst', 'totalgen',\n",
       "       'totalobc', 'totalaadhaar', 'totalmobilenumber', 'aadhaar_coverage',\n",
       "       'missing_mobile'],\n",
       "      dtype='object')),\n",
       "                                                 ('cat',\n",
       "                                                  OneHotEncoder(handle_unknown='ignore'),\n",
       "                                                  Index(['finyear', 'statename', 'districtname'], dtype='object'))])),\n",
       "                ('classifier',\n",
       "                 LogisticRegression(max_iter=1000, random_state=42))])"
      ]
     },
     "execution_count": 27,
     "metadata": {},
     "output_type": "execute_result"
    }
   ],
   "source": [
    "from sklearn.linear_model import LogisticRegression\n",
    "from sklearn.ensemble import RandomForestClassifier\n",
    "from sklearn.tree import DecisionTreeClassifier\n",
    "from sklearn.svm import SVC\n",
    "\n",
    "# You can choose a classifier. Let's start with Logistic Regression for simplicity.\n",
    "# For better performance, you might try RandomForestClassifier or GradientBoostingClassifier.\n",
    "classifier = LogisticRegression(max_iter=1000, random_state=42) # Increased max_iter for convergence\n",
    "\n",
    "# Create the full pipeline: preprocessor + classifier\n",
    "model = Pipeline(steps=[('preprocessor', preprocessor),\n",
    "                        ('classifier', classifier)])\n",
    "\n",
    "# Train the model\n",
    "model.fit(X_train, y_train)"
   ]
  },
  {
   "cell_type": "code",
   "execution_count": 28,
   "metadata": {
    "id": "b90a0a7f-8ce2-4056-8202-31df820f3331"
   },
   "outputs": [
    {
     "name": "stdout",
     "output_type": "stream",
     "text": [
      "Accuracy: 0.8704\n",
      "\n",
      "Classification Report:\n",
      "              precision    recall  f1-score   support\n",
      "\n",
      "      IGNDPS       0.82      0.90      0.86       141\n",
      "     IGNOAPS       1.00      0.88      0.93       146\n",
      "      IGNWPS       0.81      0.83      0.82       145\n",
      "\n",
      "    accuracy                           0.87       432\n",
      "   macro avg       0.88      0.87      0.87       432\n",
      "weighted avg       0.88      0.87      0.87       432\n",
      "\n"
     ]
    },
    {
     "data": {
      "image/png": "[encoded data removed]",
      "text/plain": [
       "<Figure size 1000x700 with 2 Axes>"
      ]
     },
     "metadata": {},
     "output_type": "display_data"
    }
   ],
   "source": [
    "from sklearn.metrics import classification_report, accuracy_score, confusion_matrix\n",
    "import matplotlib.pyplot as plt\n",
    "import seaborn as sns\n",
    "\n",
    "# Make predictions on the test set\n",
    "y_pred = model.predict(X_test)\n",
    "\n",
    "# Evaluate the model\n",
    "print(f\"Accuracy: {accuracy_score(y_test, y_pred):.4f}\")\n",
    "print(\"\\nClassification Report:\")\n",
    "print(classification_report(y_test, y_pred))\n",
    "\n",
    "# Plot Confusion Matrix\n",
    "cm = confusion_matrix(y_test, y_pred)\n",
    "plt.figure(figsize=(10, 7))\n",
    "sns.heatmap(cm, annot=True, fmt='d', cmap='Blues',\n",
    "            xticklabels=model.classes_, yticklabels=model.classes_) # Use model.classes_ after fitting\n",
    "plt.xlabel('Predicted')\n",
    "plt.ylabel('True')\n",
    "plt.title('Confusion Matrix')\n",
    "plt.show()"
   ]
  },
  {
   "cell_type": "code",
   "execution_count": 32,
   "metadata": {
    "id": "8c936fb3-905f-466b-bd9d-b38bc58cbfb3"
   },
   "outputs": [
    {
     "data": {
      "text/plain": [
       "0.9771661471561234"
      ]
     },
     "execution_count": 32,
     "metadata": {},
     "output_type": "execute_result"
    }
   ],
   "source": [
    "from sklearn.metrics import roc_auc_score\n",
    "roc_auc_score(y_test, model.predict_proba(X_test), multi_class='ovr')\n"
   ]
  },
  {
   "cell_type": "code",
   "execution_count": 33,
   "metadata": {
    "id": "ff5656d9-c77a-4aa0-aa34-7b95905f5c35"
   },
   "outputs": [
    {
     "name": "stdout",
     "output_type": "stream",
     "text": [
      "CV Accuracy: 0.8716 ± 0.1197\n"
     ]
    }
   ],
   "source": [
    "from sklearn.model_selection import cross_val_score\n",
    "scores = cross_val_score(model, X, y, cv=5, scoring='accuracy')\n",
    "print(\"CV Accuracy: %.4f ± %.4f\" % (scores.mean(), scores.std()))\n"
   ]
  },
  {
   "cell_type": "code",
   "execution_count": 34,
   "metadata": {
    "id": "8d4fb7fa-50d4-46a4-acae-745788f36996"
   },
   "outputs": [
    {
     "name": "stdout",
     "output_type": "stream",
     "text": [
      "schemecode\n",
      "IGNOAPS    0.339054\n",
      "IGNWPS     0.335343\n",
      "IGNDPS     0.325603\n",
      "Name: proportion, dtype: float64\n"
     ]
    }
   ],
   "source": [
    "print(df['schemecode'].value_counts(normalize=True))\n"
   ]
  },
  {
   "cell_type": "code",
   "execution_count": 36,
   "metadata": {
    "id": "a014be8c-bc73-442f-9941-0a67e9edab69"
   },
   "outputs": [],
   "source": [
    "from sklearn.pipeline import Pipeline\n",
    "pipeline = Pipeline([\n",
    "    ('scaler', StandardScaler()),\n",
    "    ('model', RandomForestClassifier())\n",
    "])\n"
   ]
  },
  {
   "cell_type": "code",
   "execution_count": 37,
   "metadata": {
    "id": "52f2239b-4835-451b-abec-ffd4ed72e7f5"
   },
   "outputs": [],
   "source": [
    "model = pipeline.named_steps['model']\n"
   ]
  },
  {
   "cell_type": "code",
   "execution_count": null,
   "metadata": {
    "id": "cec83136-6a5d-4e86-9425-bd5fa9201e3c"
   },
   "outputs": [
    {
     "ename": "ValueError",
     "evalue": "Length of values (769) does not match length of index (17)",
     "output_type": "error",
     "traceback": [
      "\u001b[0;31m---------------------------------------------------------------------------\u001b[0m",
      "\u001b[0;31mValueError\u001b[0m                                Traceback (most recent call last)",
      "Cell \u001b[0;32mIn[86], line 4\u001b[0m\n\u001b[1;32m      1\u001b[0m \u001b[38;5;28;01mimport\u001b[39;00m \u001b[38;5;21;01mmatplotlib\u001b[39;00m\u001b[38;5;21;01m.\u001b[39;00m\u001b[38;5;21;01mpyplot\u001b[39;00m \u001b[38;5;28;01mas\u001b[39;00m \u001b[38;5;21;01mplt\u001b[39;00m\n\u001b[1;32m      2\u001b[0m \u001b[38;5;28;01mimport\u001b[39;00m \u001b[38;5;21;01mpandas\u001b[39;00m \u001b[38;5;28;01mas\u001b[39;00m \u001b[38;5;21;01mpd\u001b[39;00m\n\u001b[0;32m----> 4\u001b[0m feat_imp \u001b[38;5;241m=\u001b[39m pd\u001b[38;5;241m.\u001b[39mSeries(model\u001b[38;5;241m.\u001b[39mfeature_importances_, index\u001b[38;5;241m=\u001b[39mX_train\u001b[38;5;241m.\u001b[39mcolumns)\n\u001b[1;32m      5\u001b[0m feat_imp \u001b[38;5;241m=\u001b[39m feat_imp\u001b[38;5;241m.\u001b[39msort_values(ascending\u001b[38;5;241m=\u001b[39m\u001b[38;5;28;01mFalse\u001b[39;00m)\n\u001b[1;32m      7\u001b[0m feat_imp\u001b[38;5;241m.\u001b[39mplot(kind\u001b[38;5;241m=\u001b[39m\u001b[38;5;124m'\u001b[39m\u001b[38;5;124mbar\u001b[39m\u001b[38;5;124m'\u001b[39m, figsize\u001b[38;5;241m=\u001b[39m(\u001b[38;5;241m12\u001b[39m,\u001b[38;5;241m6\u001b[39m))\n",
      "File \u001b[0;32m/opt/conda/envs/Python-RT24.1/lib/python3.11/site-packages/pandas/core/series.py:503\u001b[0m, in \u001b[0;36mSeries.__init__\u001b[0;34m(self, data, index, dtype, name, copy, fastpath)\u001b[0m\n\u001b[1;32m    501\u001b[0m     index \u001b[38;5;241m=\u001b[39m default_index(\u001b[38;5;28mlen\u001b[39m(data))\n\u001b[1;32m    502\u001b[0m \u001b[38;5;28;01melif\u001b[39;00m is_list_like(data):\n\u001b[0;32m--> 503\u001b[0m     com\u001b[38;5;241m.\u001b[39mrequire_length_match(data, index)\n\u001b[1;32m    505\u001b[0m \u001b[38;5;66;03m# create/copy the manager\u001b[39;00m\n\u001b[1;32m    506\u001b[0m \u001b[38;5;28;01mif\u001b[39;00m \u001b[38;5;28misinstance\u001b[39m(data, (SingleBlockManager, SingleArrayManager)):\n",
      "File \u001b[0;32m/opt/conda/envs/Python-RT24.1/lib/python3.11/site-packages/pandas/core/common.py:561\u001b[0m, in \u001b[0;36mrequire_length_match\u001b[0;34m(data, index)\u001b[0m\n\u001b[1;32m    557\u001b[0m \u001b[38;5;250m\u001b[39m\u001b[38;5;124;03m\"\"\"\u001b[39;00m\n\u001b[1;32m    558\u001b[0m \u001b[38;5;124;03mCheck the length of data matches the length of the index.\u001b[39;00m\n\u001b[1;32m    559\u001b[0m \u001b[38;5;124;03m\"\"\"\u001b[39;00m\n\u001b[1;32m    560\u001b[0m \u001b[38;5;28;01mif\u001b[39;00m \u001b[38;5;28mlen\u001b[39m(data) \u001b[38;5;241m!=\u001b[39m \u001b[38;5;28mlen\u001b[39m(index):\n\u001b[0;32m--> 561\u001b[0m     \u001b[38;5;28;01mraise\u001b[39;00m \u001b[38;5;167;01mValueError\u001b[39;00m(\n\u001b[1;32m    562\u001b[0m         \u001b[38;5;124m\"\u001b[39m\u001b[38;5;124mLength of values \u001b[39m\u001b[38;5;124m\"\u001b[39m\n\u001b[1;32m    563\u001b[0m         \u001b[38;5;124mf\u001b[39m\u001b[38;5;124m\"\u001b[39m\u001b[38;5;124m(\u001b[39m\u001b[38;5;132;01m{\u001b[39;00m\u001b[38;5;28mlen\u001b[39m(data)\u001b[38;5;132;01m}\u001b[39;00m\u001b[38;5;124m) \u001b[39m\u001b[38;5;124m\"\u001b[39m\n\u001b[1;32m    564\u001b[0m         \u001b[38;5;124m\"\u001b[39m\u001b[38;5;124mdoes not match length of index \u001b[39m\u001b[38;5;124m\"\u001b[39m\n\u001b[1;32m    565\u001b[0m         \u001b[38;5;124mf\u001b[39m\u001b[38;5;124m\"\u001b[39m\u001b[38;5;124m(\u001b[39m\u001b[38;5;132;01m{\u001b[39;00m\u001b[38;5;28mlen\u001b[39m(index)\u001b[38;5;132;01m}\u001b[39;00m\u001b[38;5;124m)\u001b[39m\u001b[38;5;124m\"\u001b[39m\n\u001b[1;32m    566\u001b[0m     )\n",
      "\u001b[0;31mValueError\u001b[0m: Length of values (769) does not match length of index (17)"
     ]
    }
   ],
   "source": [
    "import matplotlib.pyplot as plt\n",
    "import pandas as pd\n",
    "\n",
    "feat_imp = pd.Series(model.feature_importances_, index=X_train.columns)\n",
    "feat_imp = feat_imp.sort_values(ascending=False)\n",
    "\n",
    "feat_imp.plot(kind='bar', figsize=(12,6))\n",
    "plt.title('Feature Importances')\n",
    "plt.show()\n"
   ]
  },
  {
   "cell_type": "code",
   "execution_count": 39,
   "metadata": {
    "id": "9e201859-35f6-4135-ad13-0227dbccc307"
   },
   "outputs": [
    {
     "name": "stdout",
     "output_type": "stream",
     "text": [
      "{'scaler': StandardScaler(), 'model': RandomForestClassifier()}\n"
     ]
    }
   ],
   "source": [
    "print(pipeline.named_steps)\n"
   ]
  },
  {
   "cell_type": "code",
   "execution_count": null,
   "metadata": {
    "id": "3540ba7a-41b9-40ce-8f9b-db6c789ff4e3"
   },
   "outputs": [],
   "source": []
  }
 ],
 "metadata": {
  "kernelspec": {
   "display_name": "Python 3",
   "language": "python",
   "name": "python3"
  },
  "language_info": {
   "codemirror_mode": {
    "name": "ipython",
    "version": 3
   },
   "file_extension": ".py",
   "mimetype": "text/x-python",
   "name": "python",
   "nbconvert_exporter": "python",
   "pygments_lexer": "ipython3",
   "version": "3.8.2"
  }
 },
 "nbformat": 4,
 "nbformat_minor": 4
}
